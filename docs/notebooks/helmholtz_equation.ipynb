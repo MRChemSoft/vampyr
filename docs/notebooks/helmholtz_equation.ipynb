{
 "cells": [
  {
   "attachments": {},
   "cell_type": "markdown",
   "metadata": {},
   "source": [
    "# The Helmholtz equation\n",
    "\n",
    "\n",
    "An equation that appears in multiple setting when doing quantum chemistry is the The Helmholtz equation. For instance\n",
    "it hides within the Scrodinger equation, Kohn--Sham equations and the Hartree--Fock equations.\n",
    "It is usually written in its differentail form\n",
    "\n",
    "\\begin{align*}\n",
    "    (\\nabla^2 - \\mu^2)g(\\mathbf{x}) = -f(\\mathbf{x})\n",
    "\\end{align*}\n",
    "\n",
    "with $\\mu > 0$ is a non-negative real number, $\\nabla^2 = d^2/dx^2 + d^2/dy^2 + d^2/dz^2$ is the [Laplace Operator](https://en.wikipedia.org/wiki/Laplace_operator).\n",
    "The solution can be written in terms of the convolution integral\n",
    "\n",
    "\\begin{align*}\n",
    "    g(\\mathbf{x}) = \\int H(\\mathbf{x} - \\mathbf{y}) \\, d  \\mathbf{y}  = \\hat{H}[f](\\mathbf{x})\n",
    "\\end{align*}\n",
    "where $H$ is the Hemholtz kernel\n",
    "\\begin{align*}\n",
    "    H(\\mathbf{x}) = \\frac{e^{-\\mu ||\\mathbf{x} - \\mathbf{y}||}}{4 \\pi ||\\mathbf{x} - \\mathbf{y}||}\n",
    "\\end{align*}\n",
    "and $\\hat{H}$ is the corresponding Helmholtz operator.\n",
    "\n",
    "To show how we do this in vampyr we make a source test. We start by picking the solution $g$ as,\n",
    "\\begin{align*}\n",
    "    g(\\mathbf{x}) = \\exp(-x^2 - y^2 - z^2)\n",
    "\\end{align*}\n",
    "then based upon our pick $g$ we calcualte $f$, *the source*, to be\n",
    "\\begin{align*}\n",
    "    f(\\mathbf{x}) = (\\nabla^2 - \\mu^2) g(\\mathbf{x}) = - (4x^2 + 4y^2 + 4z^2 + 6 + \\mu^2) \\exp(-x^2 - y^2 - z^2)\n",
    "\\end{align*}\n",
    "next we'll project $f$ onto an MRA in vampyr, then we'll apply the Helmholtz operator onto it to caluclate an approximation to $g$,\n",
    "then we'll compare our approximation of $g$ to the exact representation. "
   ]
  },
  {
   "cell_type": "code",
   "execution_count": 1,
   "metadata": {},
   "outputs": [],
   "source": [
    "# The Helmholtz operator is a 3 dimensional operator so we use vampyr3d\n",
    "from vampyr import vampyr3d as vp3\n",
    "import numpy as np\n",
    "\n",
    "import matplotlib.pyplot as plt\n",
    "\n",
    "# Set the precision and make the MRA\n",
    "prec = 1.0e-3\n",
    "mra = vp3.MultiResolutionAnalysis(box=[-20, 20], order=5)\n",
    "\n",
    "# Make the scaling projector\n",
    "P_eps = vp3.ScalingProjector(mra, prec)\n",
    "\n",
    "# Define mu and make the Helmholtz operator \n",
    "mu = 1.0\n",
    "helmholtz_operator = vp3.HelmholtzOperator(mra, mu, prec)\n",
    "\n",
    "\n",
    "# Define the analytical source term f\n",
    "def f(x):\n",
    "    return -2.0*(2.0*x[0]**2 + 2.0*x[1]**2 + 2.0*x[2]**2 - 3.0 - mu**2/2) * np.exp(-x[0]**2 - x[1]**2 - x[2]**2)\n",
    "\n",
    "# Define the analytical solution reference g\n",
    "def g(x):\n",
    "    return np.exp(-x[0]**2 - x[1]**2 - x[2]**2)\n",
    "\n",
    "# Use the projector to project the function onto a function_tree\n",
    "f_tree = P_eps(f)\n",
    "\n",
    "# Apply the helmholtz operator onto f_tree\n",
    "g_tree = helmholtz_operator(f_tree)"
   ]
  },
  {
   "cell_type": "code",
   "execution_count": 2,
   "metadata": {},
   "outputs": [
    {
     "data": {
      "image/png": "[encoded data removed]",
      "text/plain": [
       "<Figure size 640x480 with 1 Axes>"
      ]
     },
     "metadata": {},
     "output_type": "display_data"
    }
   ],
   "source": [
    "# One way to compare g_tree to the analytical reference is to plot them together\n",
    "\n",
    "x = np.arange(-20, 20, 0.001)\n",
    "y = [g_tree([_, 0.0, 0.0]) for _ in x]\n",
    "y1= [g([_, 0.0, 0.0]) for _ in x]\n",
    "\n",
    "plt.plot(x, y)\n",
    "plt.plot(x, y1)\n",
    "plt.show()\n",
    "\n",
    "# An exercise is to modify the code and plot the relative difference along the same line"
   ]
  },
  {
   "cell_type": "code",
   "execution_count": 3,
   "metadata": {},
   "outputs": [
    {
     "name": "stdout",
     "output_type": "stream",
     "text": [
      "g_tree - g_tree_reference square norm: 0.00044356533974258583\n"
     ]
    }
   ],
   "source": [
    "# A problem with that comparrison is that we only see a line in 3D space. Another\n",
    "# purhaps better way to compare the accuray of g_tree and g is to project g onto\n",
    "# a function_tree g_tree_reference. Then calcualte the norm of g_tree - g_tree_reference\n",
    "\n",
    "# An exercise is to see how the square norm decreases when the precision is increased.\n",
    "\n",
    "g_tree_reference = P_eps(g)\n",
    "\n",
    "print(\"g_tree - g_tree_reference square norm:\", (g_tree - g_tree_reference).norm())"
   ]
  }
 ],
 "metadata": {
  "kernelspec": {
   "display_name": "documentation",
   "language": "python",
   "name": "python3"
  },
  "language_info": {
   "codemirror_mode": {
    "name": "ipython",
    "version": 3
   },
   "file_extension": ".py",
   "mimetype": "text/x-python",
   "name": "python",
   "nbconvert_exporter": "python",
   "pygments_lexer": "ipython3",
   "version": "3.10.8"
  },
  "orig_nbformat": 4,
  "vscode": {
   "interpreter": {
    "hash": "a875265825dca88dc0cdca05b35ae15709f7b78b2bf941fac513dcdaf1078523"
   }
  }
 },
 "nbformat": 4,
 "nbformat_minor": 2
}
