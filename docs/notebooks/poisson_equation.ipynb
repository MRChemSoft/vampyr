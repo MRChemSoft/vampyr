{
 "cells": [
  {
   "cell_type": "code",
   "execution_count": null,
   "metadata": {},
   "outputs": [],
   "source": [
    "\"\"\"The Poisson equation\"\"\"\n",
    "\n",
    "__author__    = \"Magnar Bjørgve\"\n",
    "__credit__    = [\"Magnar Bjørgve\"]\n",
    "\n",
    "__date__      = \"2021-02-16\""
   ]
  },
  {
   "attachments": {},
   "cell_type": "markdown",
   "metadata": {},
   "source": [
    "# The Poisson equation"
   ]
  },
  {
   "cell_type": "markdown",
   "metadata": {},
   "source": [
    "\n",
    "A useful equation to solve is the Poisson equation, which among other places appear\n",
    "when we wish to figure out the electrostatic potentail $V$ from the electronic density $\\rho$.\n",
    "\n",
    "\n",
    "The Poisson equation is usually written in its differential form \n",
    "\\begin{align}\n",
    "    \\nabla^2 g(r) = -f(r)\n",
    "\\end{align}\n",
    "\n",
    "The solution can be written in terms of the convolution integral \n",
    "\n",
    "\\begin{align}\n",
    "    g(r) = \\int P(r - r') \\, d r'= \\hat{P}[f](r)\n",
    "\\end{align}\n",
    "where $P(r)$ is the Poisson kernel \n",
    "\\begin{align}\n",
    "    P(r) = \\frac{1}{4 \\pi r}\n",
    "\\end{align}\n",
    "and $\\hat{P}$ is the Poisson Operator.\n",
    "\n",
    "\n",
    "Next we'll use VAMPyR to sovle the Poisson equation. We'll do this through what is called a source test.\n",
    "That is, we'll start by defining an analytic funtion $g$, or solution, then fabricate $f$ from this.\n",
    "We then use VAMPyR and solve the Poisson equation by applying poisson operator onto $f$\n",
    "\n",
    "Assume\n",
    "\\begin{align}\n",
    "    g(r) = \\exp(-x^2 - y^2 - z^2)\n",
    "\\end{align}\n",
    "we then apply the laplace operator $\\nabla^2$ onto $g$ and we get $f$ to be \n",
    "\\begin{align}\n",
    "    f(r) = -\\nabla^2 g(r) = - 2(2x^2 + 2y^2 + 2z^2 + 3) \\exp(-x^2 - y^2 - z^2)\n",
    "\\end{align}\n"
   ]
  },
  {
   "cell_type": "code",
   "execution_count": 1,
   "metadata": {},
   "outputs": [],
   "source": [
    "# The Poisson operator is a 3 dimensional operator so we use vampyr3d\n",
    "from vampyr import vampyr3d as vp3\n",
    "import numpy as np\n",
    "\n",
    "import matplotlib.pyplot as plt\n",
    "\n",
    "# Set the precision and make the MRA\n",
    "prec = 1.0e-3\n",
    "mra = vp3.MultiResolutionAnalysis(box=[-20, 20], order=5)\n",
    "\n",
    "# Make the scaling projector\n",
    "P_eps = vp3.ScalingProjector(mra, prec)\n",
    "\n",
    "# Make the Poisson operator\n",
    "poisson_operator = vp3.PoissonOperator(mra, prec)\n",
    "\n",
    "# Define the analytical source term f\n",
    "def f(x):\n",
    "    return -2.0*(2.0*x[0]**2 + 2.0*x[1]**2 + 2.0*x[2]**2 - 3.0) * np.exp(-x[0]**2 - x[1]**2 - x[2]**2)\n",
    "\n",
    "# Define the analytical solution reference g\n",
    "def g(x):\n",
    "    return np.exp(-x[0]**2 - x[1]**2 - x[2]**2)\n",
    "\n",
    "f_tree = P_eps(f)\n",
    "g_tree_analytic = P_eps(g)\n",
    "\n",
    "# Apply the PoissonOperator onto f_tree\n",
    "g_tree = poisson_operator(f_tree)"
   ]
  },
  {
   "cell_type": "code",
   "execution_count": 2,
   "metadata": {},
   "outputs": [
    {
     "data": {
      "image/png": "[encoded data removed]",
      "text/plain": [
       "<Figure size 640x480 with 1 Axes>"
      ]
     },
     "metadata": {},
     "output_type": "display_data"
    }
   ],
   "source": [
    "# One way to compare g_tree to the analytical reference is to plot them together\n",
    "\n",
    "x = np.arange(-20, 20, 0.001)\n",
    "y = [g_tree([_, 0.0, 0.0]) for _ in x]\n",
    "y1= [g([_, 0.0, 0.0]) for _ in x]\n",
    "\n",
    "plt.plot(x, y)\n",
    "plt.plot(x, y1)\n",
    "plt.show()\n",
    "\n",
    "# An exercise is to modify the code and plot the relative difference along the same line"
   ]
  },
  {
   "cell_type": "code",
   "execution_count": 3,
   "metadata": {},
   "outputs": [
    {
     "name": "stdout",
     "output_type": "stream",
     "text": [
      "g_tree - g_tree_reference square norm: 0.0004611916258279639\n"
     ]
    }
   ],
   "source": [
    "# A problem with that comparrison is that we only see a line in 3D space. Another\n",
    "# purhaps better way to compare the accuray of g_tree and g is to project g onto\n",
    "# a function_tree g_tree_reference. Then calcualte the norm of g_tree - g_tree_reference\n",
    "\n",
    "# An exercise is to see how the square norm decreases when the precision is increased.\n",
    "\n",
    "g_tree_reference = P_eps(g)\n",
    "\n",
    "print(\"g_tree - g_tree_reference square norm:\", (g_tree - g_tree_reference).norm())"
   ]
  }
 ],
 "metadata": {
  "kernelspec": {
   "display_name": "documentation",
   "language": "python",
   "name": "python3"
  },
  "language_info": {
   "codemirror_mode": {
    "name": "ipython",
    "version": 3
   },
   "file_extension": ".py",
   "mimetype": "text/x-python",
   "name": "python",
   "nbconvert_exporter": "python",
   "pygments_lexer": "ipython3",
   "version": "3.10.8"
  },
  "orig_nbformat": 4,
  "vscode": {
   "interpreter": {
    "hash": "a875265825dca88dc0cdca05b35ae15709f7b78b2bf941fac513dcdaf1078523"
   }
  }
 },
 "nbformat": 4,
 "nbformat_minor": 2
}
