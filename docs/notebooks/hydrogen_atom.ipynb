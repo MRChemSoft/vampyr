{
 "cells": [
  {
   "cell_type": "code",
   "execution_count": 1,
   "metadata": {},
   "outputs": [],
   "source": [
    "\"\"\"Hydrogen atom\"\"\"\n",
    "\n",
    "__author__    = \"Magnar Bjørgve\"\n",
    "__credit__    = [\"Magnar Bjørgve\"]\n",
    "\n",
    "__date__      = \"2021-02-16\""
   ]
  },
  {
   "attachments": {},
   "cell_type": "markdown",
   "metadata": {},
   "source": [
    "# Hydrogen atom"
   ]
  },
  {
   "cell_type": "markdown",
   "metadata": {},
   "source": [
    "\n",
    "One of the simplest problems to solve, if not the simplest, is the Schrödinger equation for the Hydrogen atom. It's a\n",
    "good starting point to get familiar with `vampyr`. Since, we know the analytic solution, so we have a solution we \n",
    "can refer to.\n",
    "\n",
    "\\begin{equation*}\n",
    "\\left[\\hat{T} + \\hat{V}\\right]\\phi = E\\phi\n",
    "\\end{equation*}\n",
    "Here $\\hat{T}$ is the Kinetic energy operator\n",
    "\\begin{equation*}\n",
    "\\hat{T} = -\\frac{1}{2}\\nabla^2\n",
    "\\end{equation*}\n",
    "and $\\hat{V}$ is the potentail operator, which in this case only \n",
    "contain the nulear attraction\n",
    "\\begin{equation*}\n",
    "\\hat{V}(r) = \\frac{-Z}{|R-r|}\n",
    "\\end{equation*}\n",
    "where $Z=1$ and $R=(0,0,0)$ are the nuclear charge and position, respectively. We iterate the Schrödinger equation in its integral form\n",
    "\\begin{equation*}\n",
    "\\tilde{\\phi}^{n+1} = -2 \\hat{G}^{\\mu^n}[\\hat{V} \\phi^n]\n",
    "\\end{equation*}\n",
    "where $\\hat{G}^\\mu$ is the integral convolution operator with the bound-state Helmholtz kernel $G^{\\mu} = e^{-\\mu r}/r$ and $\\mu^n = \\sqrt{-2E^n}$ is a positive real number.\n",
    "\n",
    "\n",
    "The analytic solution is know to be\n",
    "\\begin{align}\n",
    "    \\phi = e^{-|r|}\n",
    "\\end{align}\n",
    "and energy $E = -0.5$"
   ]
  },
  {
   "cell_type": "code",
   "execution_count": null,
   "metadata": {},
   "outputs": [],
   "source": [
    "from vampyr import vampyr3d as vp\n",
    "import numpy as np\n",
    "\n",
    "def laplace_operator(D, f_tree):\n",
    "    return D(D(f_tree, 0), 0) + D(D(f_tree, 1), 1) + D(D(f_tree, 2), 2)\n",
    "\n",
    "def calculate_energy(phi_tree, V_tree):\n",
    "    mra = phi_tree.MRA()\n",
    "    d_oper = vp.ABGVDerivative(mra, 0.5, 0.5)\n",
    "    return -0.5*vp.dot(laplace_operator(d_oper, phi_tree), phi_tree) + vp.dot(phi_tree, V_tree*phi_tree)\n",
    "\n",
    "# Analytic nuclear potential: f_nuc(r) = Z/|r|\n",
    "def f_nuc(r):\n",
    "    Z = 1.0                 # Nuclear charge\n",
    "    R = np.sqrt(r[0]**2 + r[1]**2 + r[2]**2)\n",
    "    return -Z / R\n",
    "\n",
    "# Analytic guess for wavefunction: f_phi(r) = exp(-r^2)\n",
    "def f_phi(r):\n",
    "    R2 = r[0]**2 + r[1]**2 + r[2]**2\n",
    "    return np.exp(-R2)\n",
    "\n",
    "# Analytic exact wavefunction for comparison\n",
    "def f_phi_exact(r):\n",
    "    return np.exp(-np.sqrt(r[0]**2 + r[1]**2 + r[2]**2))\n",
    "\n",
    "# Set target precision\n",
    "precision = 1.0e-3\n",
    "\n",
    "# Define MRA basis and computational domain\n",
    "k = 5                       # Polynomial order of MRA basis\n",
    "world = [-20, 20]           # Computational domain [-L,L]^3 (a.u.)\n",
    "MRA = vp.MultiResolutionAnalysis(order=k, box=world)\n",
    "\n",
    "# Define projector onto the MRA basis\n",
    "P_mra = vp.ScalingProjector(mra=MRA, prec=precision)\n",
    "\n",
    "# Initialize the calculation\n",
    "V = P_mra(f_nuc)               # Project analytic nuclear potential onto MRA\n",
    "phi_n = P_mra(f_phi)           # Project analytic guess for wavefunction onto MRA\n",
    "phi_n.normalize()              # Normalize the wavefunction guess\n",
    "phi_exact = P_mra(f_phi_exact) # Project exact wavefunction onto MRA\n",
    "phi_exact.normalize()          # Normalize the exact wavefunction\n",
    "E_n = calculate_energy(phi_n, V)\n",
    "\n"
   ]
  },
  {
   "cell_type": "code",
   "execution_count": null,
   "metadata": {},
   "outputs": [],
   "source": [
    "# Loop parameters\n",
    "iteration = 0                  # Iteration counter\n",
    "max_iter = 30                  # Maximum iterations \n",
    "thrs = precision # -1           # Convergence requirement. Set to -1 if you wish to limit using max_iter\n",
    "update = 1.0                   # Initialize error measure (norm of wavefunction update)\n",
    "# Minimization loop\n",
    "while (update > thrs):\n",
    "    if iteration > max_iter-1:\n",
    "        break\n",
    "    # Build Helmholtz operator from current energy\n",
    "    mu = np.sqrt(-2*E_n)\n",
    "    G = vp.HelmholtzOperator(mra=MRA, exp=mu, prec=precision)\n",
    "    \n",
    "    # Apply Helmholtz operator\n",
    "    phi_np1 = -2*G(V*phi_n)\n",
    "    \n",
    "    # Compute wavefunction and energy update\n",
    "    d_phi_n = phi_np1 - phi_n\n",
    "    update = d_phi_n.norm()\n",
    "\n",
    "    # Prepare for next iteration\n",
    "    phi_n = phi_np1\n",
    "    phi_n.normalize()\n",
    "    E_n = calculate_energy(phi_n, V)\n",
    "\n",
    "    # Collect output\n",
    "    print(iteration, \" |  E:\", E_n, \" |  d_phi:\", update)\n",
    "    iteration += 1"
   ]
  }
 ],
 "metadata": {
  "kernelspec": {
   "display_name": "documentation",
   "language": "python",
   "name": "python3"
  },
  "language_info": {
   "codemirror_mode": {
    "name": "ipython",
    "version": 3
   },
   "file_extension": ".py",
   "mimetype": "text/x-python",
   "name": "python",
   "nbconvert_exporter": "python",
   "pygments_lexer": "ipython3",
   "version": "3.10.8"
  },
  "orig_nbformat": 4,
  "vscode": {
   "interpreter": {
    "hash": "a875265825dca88dc0cdca05b35ae15709f7b78b2bf941fac513dcdaf1078523"
   }
  }
 },
 "nbformat": 4,
 "nbformat_minor": 2
}
