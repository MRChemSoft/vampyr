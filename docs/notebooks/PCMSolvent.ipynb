{
 "cells": [
  {
   "cell_type": "code",
   "execution_count": 1,
   "id": "ea98d79d",
   "metadata": {},
   "outputs": [],
   "source": [
    "\"\"\"Polarizable continuum model (PCM) solvent model.\"\"\"\n",
    "\n",
    "__author__    = \"Gabriel Gerez\"\n",
    "__credit__    = [\"Gabriel Gerez\"]\n",
    "\n",
    "__date__      = \"2023-08-24\""
   ]
  },
  {
   "cell_type": "code",
   "execution_count": 2,
   "id": "687f3715",
   "metadata": {},
   "outputs": [],
   "source": [
    "from vampyr import vampyr3d as vp\n",
    "import numpy as np\n",
    "from scipy.special import erf"
   ]
  },
  {
   "cell_type": "markdown",
   "id": "110905f6",
   "metadata": {},
   "source": [
    "# Polarizable continuum model (PCM) for solvation"
   ]
  },
  {
   "cell_type": "markdown",
   "id": "8fb876dd",
   "metadata": {},
   "source": [
    "PCM treats the solvent as an isotropic continuum characterized by its permittivity, obtained from the \n",
    "solvent's bulk properties. The solute is described at the quantum level, and their interaction is \n",
    "represented through an electrostatic potential supported on the so-called cavity of the solute. Below, we \n",
    "detail the mathematical formulation of this model and provide a practical example of how it can be \n",
    "implemented.\n",
    "\n",
    "The cavity is the area where the solute is located and we define it using an interlocking spheres \n",
    "model where the spheres are centered in the atoms of the solute and the radii of the spheres is usually the \n",
    "vdW-radii.\n",
    "\n",
    "In our case we define a cavity function as \n",
    "$$\n",
    "C(\\vec{r}) = \\begin{cases}\n",
    "    0 & \\mathbf{r}\\text{ ~inside cavity} \\\\\n",
    "    1 & \\mathbf{r} \\text{ ~outside cavity}\n",
    "\\end{cases}\n",
    "$$\n",
    "We want the boundary between the inside and outside of the cavity to be smooth. "
   ]
  },
  {
   "cell_type": "markdown",
   "id": "74a441b1",
   "metadata": {},
   "source": [
    "\n",
    "Each i-th sphere is defined by a center $\\mathbf{r}_i$ and a radius $R_i$ and the cavity function is defined as\n",
    "$$\n",
    "C_i(\\mathbf{r}) = \\frac{1}{2} \\left( 1 + \\text{erf} \\left( \\frac{|\\mathbf{r} - \\mathbf{r}_i| - R_i}{ \\sigma} \\right) \\right),\n",
    "$$\n",
    "where erf is the error function and $\\sigma$ is a parameter that controls the width of the boundary.\n",
    "\n",
    "The total cavity function is then defined as\n",
    "$$\n",
    "C(\\mathbf{r}) = 1 - \\prod_i \\left(1-C_i(\\mathbf{r})\\right).\n",
    "$$\n",
    "\n",
    "This has been implemented as a class below"
   ]
  },
  {
   "cell_type": "code",
   "execution_count": 3,
   "id": "a74a3d77",
   "metadata": {},
   "outputs": [],
   "source": [
    "class Cavity(object):\n",
    "    \n",
    "    def __init__(self, cav_coords, radii, width):\n",
    "        self.r_list = cav_coords # list of cavity centers. Normally, but not always, nucleus coordinates. \n",
    "        self.R_list = radii  # list of cavity radii. Normally, but not always, nucleus radii.\n",
    "        self.sigma = width  # width of the cavity boundary\n",
    "   \n",
    "\n",
    "    def __call__(self,  r):\n",
    "        \"\"\"\n",
    "        r is a list of floats of length 3, can be a numpy array as well\n",
    "        \"\"\"\n",
    "        r_vec = np.array(r)\n",
    "        C = 1.0\n",
    "        for i, r_i in enumerate(self.r_list):\n",
    "            r_vec_i = np.array(r_i)\n",
    "            s_i = np.linalg.norm(r_vec_i - r_vec) - self.R_list[i]\n",
    "            O_i = (1.0/2.0)*(1 + erf(s_i/self.sigma))\n",
    "            C_i = 1 - O_i\n",
    "            C *= 1 - C_i\n",
    "        C = 1.0 - C\n",
    "        return C"
   ]
  },
  {
   "cell_type": "markdown",
   "id": "e9998102",
   "metadata": {},
   "source": [
    "\n",
    "\n",
    "The electrostatic potential $V(\\mathbf{r})$ satisfies the generalized Poisson equation (GPE)\n",
    "$$\n",
    "    \\nabla \\cdot (\\varepsilon(\\mathbf{r}) \\nabla V(\\mathbf{r})) = -4\\pi \\rho(\\mathbf{r}),\n",
    "$$\n",
    "where $\\rho(\\mathbf{r}$ is the total total density of the solute including both electronic, $\\rho_{el}$ and nuclear $\\rho_{nuc}$ densities,\n",
    "$$\n",
    "    \\rho(\\mathbf{r}) = \\rho_{el}(\\mathbf{r}) +  \\rho_{nuc}(\\mathbf{r}),\n",
    "$$\n",
    "and $\\varepsilon(\\mathbf{r})$ is the position dependent permittivity parametrized using the cavity of the solute where\n",
    "$$\n",
    "    \\varepsilon(\\mathbf{r}) = \\begin{cases}\n",
    "        \\varepsilon_0 & \\mathbf{r}~\\text{inside}~\\text{cavity} \\\\\n",
    "        \\varepsilon_r & \\mathbf{r}~\\text{outside}~ \\text{cavity}.\n",
    "    \\end{cases}\n",
    "$$\n",
    "where $\\varepsilon_0$ is the permittivity of free space and $\\varepsilon_r$ is the relative permittivity of the solvent.\n"
   ]
  },
  {
   "cell_type": "markdown",
   "id": "bf5a3237",
   "metadata": {},
   "source": [
    "We have defined the permittivity function as follows\n",
    "$$\n",
    "\\varepsilon(\\mathbf{r}) = \\varepsilon_0  \\exp\\left(\\log\\left[\\frac{\\varepsilon_r}{ \\varepsilon_0}\\right]\\left(1 - C(\\mathbf{r})\\right)\\right).\n",
    "$$\n",
    "\n",
    "This has been implemented as a class below"
   ]
  },
  {
   "cell_type": "code",
   "execution_count": 4,
   "id": "7036a9eb",
   "metadata": {},
   "outputs": [],
   "source": [
    "class Permittivity():\n",
    "    def __init__(self, cavity, inside=1.0, outside=2.0):\n",
    "        \n",
    "        self.C = cavity # instance of cavity class\n",
    "        self.inside = inside # permittivity of free space\n",
    "        self.outside = outside # permittivity of solvent\n",
    "    \n",
    "    def __call__(self, r):\n",
    "        C_eval = self.C(r)\n",
    "        permittivity = self.inside*np.exp((np.log((self.outside/self.inside)))*(1.0 - C_eval))\n",
    "    \n",
    "        return permittivity"
   ]
  },
  {
   "cell_type": "markdown",
   "id": "7fc4d4e6",
   "metadata": {},
   "source": [
    "\n",
    "\n",
    "The electrostatic potential can be divided into two contributions, the solute-solvent interaction reaction potential $V_R$ (also normally simply called reaction potential), and the vacuum potential $V_{vac}$,\n",
    "$$\n",
    "    V(\\mathbf{r}) = V_R(\\mathbf{r}) + V_{vac}(\\mathbf{r}),\n",
    "$$\n",
    "where \n",
    "$$\n",
    "    \\nabla^2 V_{vac}(\\mathbf{r}) = -4\\pi \\rho(\\mathbf{r}).\n",
    "$$\n",
    "\n",
    "The energy contribution from the reaction potential, $E_R$ is given as\n",
    "$$\n",
    "    E_R =\\frac{1}{2} \\int d\\mathbf{r}V_R(\\mathbf{r})\\rho(\\mathbf{r}).\n",
    "$$\n",
    "Since this energy is only dependent on the reaction potential, we want to directly solve for it.\n"
   ]
  },
  {
   "cell_type": "markdown",
   "id": "3e6e67f2",
   "metadata": {},
   "source": [
    "Resolving the chain rule and manipulating the equation gives us the following expression for the reaction potential\n",
    "$$\n",
    "     \\nabla^2  V_R(\\mathbf{r})  = -4\\pi\\left( \\frac{\\rho(\\mathbf{r})}{\\varepsilon(\\mathbf{r})} -\\rho(\\mathbf{r})\\right) - \\frac{\\nabla \\varepsilon(\\mathbf{r}) \\cdot \\nabla V(\\mathbf{r})}{\\varepsilon(\\mathbf{r})}\n",
    "$$\n",
    "We solve the equation by using the Poisson operator $P(\\mathbf{r})$ to directly solve for the \n",
    "reaction potential\n",
    "$$\n",
    "    V_R(\\mathbf{r})  = P(\\mathbf{r}) \\star\\left[ \\rho_{eff}(\\mathbf{r}) + \\gamma_s(\\mathbf{r}) \\right]\n",
    "$$\n",
    "where we did the following substitutions\n",
    "$$\n",
    "    \\rho_{eff}(\\mathbf{r}) = 4\\pi \\left(\\frac{\\rho(\\mathbf{r})}{\\varepsilon(\\mathbf{r})} - \\rho(\\mathbf{r})\\right) \\\\ \n",
    "    ~\\\\\n",
    "    \\gamma_s(\\mathbf{r}) = \\frac{\\nabla \\varepsilon(\\mathbf{r}) \\cdot \\nabla V(\\mathbf{r})}{\\varepsilon(\\mathbf{r})}\n",
    "$$\n",
    "which we call respectively the effective molecular density $\\rho_{eff}$ and the surface charge distribution $\\gamma_s$.\n",
    "\n",
    "Note that the Reaction potential must be solved iteratively since it appears on both sides of the last equation through the total electrostatic potential $V$ which is part of $\\gamma_s$ as shown in the equations above."
   ]
  },
  {
   "cell_type": "markdown",
   "id": "1463bb1f",
   "metadata": {},
   "source": [
    "Below is an implementation of the self consistent procedure for the reaction potential for a single positive charge inside a sphere cavity of unit radius.\n",
    "We start by defining several functions to compute the objects needed for the reaction potential"
   ]
  },
  {
   "cell_type": "code",
   "execution_count": 5,
   "id": "77a9524b",
   "metadata": {},
   "outputs": [],
   "source": [
    "def constructChargeDensity(positions, charges, width_parameter):\n",
    "    \"\"\"Computes the charge density of a set of point charges using a Gaussian\n",
    "    function. The Gaussian function is centered at the position of the charge\n",
    "    and the width parameter is the standard deviation of the Gaussian.\n",
    "\n",
    "    Args:\n",
    "        positions (list of lists of floats): list of positions of the charges\n",
    "        charges (list of floats): list of charges\n",
    "        width_parameter (int, optional): Standard deviation of the Gaussian. Defaults to 1000.\n",
    "\n",
    "    Returns:\n",
    "        function: function that computes the charge density at a given position\n",
    "    \"\"\"\n",
    "    charge_density = vp.GaussExp()\n",
    "    for (pos, charge) in zip(positions, charges):\n",
    "        beta = width_parameter\n",
    "        alpha = (beta / np.pi)**(3.0/2.0)\n",
    "        charge_density.append(vp.GaussFunc(beta=beta, alpha=alpha*charge, position=pos, poly_exponent=[0,0,0]))\n",
    "    return charge_density\n",
    "\n",
    "\n",
    "def computeGamma(Derivative_op, V, permittivity, epsilon):\n",
    "    \"\"\"Computes gamma_s for a given permittivity and potential.\n",
    "\n",
    "    Args:\n",
    "        Derivative_op (vp.ABGVDerivative): Derivative operator\n",
    "        V (vp.FunctionTree): Potential used to compute gamma_s\n",
    "        permittivity (vp.FunctionTree): permittivity function of the solvent\n",
    "        epsilon (float): crop precision\n",
    "\n",
    "    Returns:\n",
    "        _type_: _description_\n",
    "    \"\"\"\n",
    "    gamma =  vp.dot(vp.gradient(Derivative_op,V), vp.gradient(Derivative_op, permittivity)) * ( permittivity**(-1))\n",
    "    gamma = gamma.crop(epsilon)\n",
    "    return gamma.deepCopy()\n",
    "\n"
   ]
  },
  {
   "cell_type": "markdown",
   "id": "f7f6f209",
   "metadata": {},
   "source": [
    "Initialize the Multiresolution analysis"
   ]
  },
  {
   "cell_type": "code",
   "execution_count": 6,
   "id": "5996cb89",
   "metadata": {},
   "outputs": [
    {
     "name": "stdout",
     "output_type": "stream",
     "text": [
      "================================================================\n",
      "                    MultiResolution Analysis                    \n",
      "----------------------------------------------------------------\n",
      " polynomial order      : 5\n",
      " polynomial type       : Interpolating\n",
      "----------------------------------------------------------------\n",
      " total boxes           : 8\n",
      " boxes                 : [          2           2           2 ]\n",
      " unit lengths          : [  10.000000   10.000000   10.000000 ]\n",
      " scaling factor        : [   1.250000    1.250000    1.250000 ]\n",
      " lower bounds          : [ -10.000000  -10.000000  -10.000000 ]\n",
      " upper bounds          : [  10.000000   10.000000   10.000000 ]\n",
      " total length          : [  20.000000   20.000000   20.000000 ]\n",
      "================================================================\n",
      "\n"
     ]
    }
   ],
   "source": [
    "k = 5\n",
    "L = [-10, 10]\n",
    "MRA = vp.MultiResolutionAnalysis(order=k, box=L)\n",
    "print(MRA)"
   ]
  },
  {
   "cell_type": "markdown",
   "id": "d2163897",
   "metadata": {},
   "source": [
    "Initialize all operators that will be used"
   ]
  },
  {
   "cell_type": "code",
   "execution_count": 7,
   "id": "898a27c8",
   "metadata": {},
   "outputs": [],
   "source": [
    "epsilon = 1e-5\n",
    "Projection_op = vp.ScalingProjector(mra=MRA, prec=epsilon)\n",
    "Derivative_op = vp.ABGVDerivative(mra=MRA, a=0.0, b=0.0)\n",
    "Poisson_op = vp.PoissonOperator(mra=MRA, prec=epsilon)"
   ]
  },
  {
   "cell_type": "markdown",
   "id": "c2044a0c",
   "metadata": {},
   "source": [
    "Compute the density of the solute"
   ]
  },
  {
   "cell_type": "code",
   "execution_count": 8,
   "id": "980ddc95",
   "metadata": {},
   "outputs": [],
   "source": [
    "charge_coords = [[0.0000000000,    0.0000000000,    0.000000000]]\n",
    "charges = [1.0]\n",
    "charge_width = 1000.0\n",
    "dens = Projection_op(constructChargeDensity(charge_coords, charges, width_parameter=charge_width))\n"
   ]
  },
  {
   "cell_type": "markdown",
   "id": "e8b9f770",
   "metadata": {},
   "source": [
    "Project the permittivity of the solvent"
   ]
  },
  {
   "cell_type": "code",
   "execution_count": 9,
   "id": "84cee3c8",
   "metadata": {},
   "outputs": [],
   "source": [
    "cav_coords = [[0.0000000000,    0.0000000000,    0.000000000]] # list of cavity centers. Normally, but not always, nucleus coordinates.\n",
    "cav_radii = [1.0] # list of cavity radii. Normally, but not always, nucleus radii.\n",
    "boundary_width = 0.2 # width of the cavity boundary\n",
    "\n",
    "C = Cavity(cav_coords, cav_radii, boundary_width)\n",
    "perm = Projection_op(Permittivity(C, inside=1.0, outside=2.0))"
   ]
  },
  {
   "cell_type": "markdown",
   "id": "cdfc058a",
   "metadata": {},
   "source": [
    "Construct the effective solute density as defined above and compute the vacuum potential $V_{vac}$"
   ]
  },
  {
   "cell_type": "code",
   "execution_count": 10,
   "id": "c04749f8",
   "metadata": {},
   "outputs": [],
   "source": [
    "rho_eff = (4*np.pi)*((dens * (perm)**(-1))  - (dens))\n",
    "V_vac =Poisson_op((4*np.pi)*(dens))"
   ]
  },
  {
   "cell_type": "markdown",
   "id": "421894bc",
   "metadata": {},
   "source": [
    "Compute the zero-th reaction potential before the iterative procedure"
   ]
  },
  {
   "cell_type": "code",
   "execution_count": 11,
   "id": "624ae35d",
   "metadata": {},
   "outputs": [],
   "source": [
    "gamma_0 = computeGamma(Derivative_op, V_vac, perm, epsilon)\n",
    "V_R = Poisson_op(rho_eff + gamma_0)"
   ]
  },
  {
   "cell_type": "markdown",
   "id": "1f46917d",
   "metadata": {},
   "source": [
    "Iterate throught the application of the Poisson operator to compute the reaction potential"
   ]
  },
  {
   "cell_type": "code",
   "execution_count": 14,
   "id": "71337e6c",
   "metadata": {},
   "outputs": [
    {
     "name": "stdout",
     "output_type": "stream",
     "text": [
      "iteration: 0 \t norm: 6.025407139395362 \t update: 8.710992846061201e-08 \t energy: -0.2626682445748242 \t energy update: -0.2626682445748242\n"
     ]
    }
   ],
   "source": [
    "update = 1.0\n",
    "E_r_old = 0.0\n",
    "max_iter = 100\n",
    "for i in range(max_iter):\n",
    "    V_tot = V_vac + V_R\n",
    "                \n",
    "    # compute the surface charge distribution \n",
    "    gamma_s = computeGamma(Derivative_op, V_tot, perm, epsilon)\n",
    "\n",
    "    # solve the generalized poisson equation for V_R \n",
    "    V_R_np1 = Poisson_op((rho_eff) + (gamma_s)) \n",
    "    dV_R = V_R_np1 - V_R\n",
    "    \n",
    "    update = dV_R.norm()\n",
    "    \n",
    "    V_R =  V_R + dV_R\n",
    "    \n",
    "    E_r = (1/2)*vp.dot(V_R, dens) # computing energy\n",
    "    \n",
    "    dE_r = E_r - E_r_old\n",
    "    E_r_old = E_r\n",
    "    \n",
    "    print(f\"iteration: {i} \\t norm: {V_R.norm()} \\t update: {update} \\t energy: {E_r} \\t energy update: {dE_r}\") \n",
    "    \n",
    "    if (update < epsilon):\n",
    "        break\n",
    "else:\n",
    "    print(\"WARNING: SCRF did not converge\")"
   ]
  },
  {
   "cell_type": "markdown",
   "id": "ac887cf1",
   "metadata": {},
   "source": [
    "The energy can then be computed as follows"
   ]
  },
  {
   "cell_type": "code",
   "execution_count": null,
   "id": "50f238b2",
   "metadata": {},
   "outputs": [],
   "source": [
    "E_r = (1/2)*vp.dot(V_R, dens)"
   ]
  }
 ],
 "metadata": {
  "kernelspec": {
   "display_name": "Python 3.11.4 ('MRPyCM-env')",
   "language": "python",
   "name": "python3"
  },
  "language_info": {
   "codemirror_mode": {
    "name": "ipython",
    "version": 3
   },
   "file_extension": ".py",
   "mimetype": "text/x-python",
   "name": "python",
   "nbconvert_exporter": "python",
   "pygments_lexer": "ipython3",
   "version": "3.11.4"
  },
  "vscode": {
   "interpreter": {
    "hash": "487dd71aba060d73bfc278ebf788be90cc4e85b80399312c78d8b97665a3c999"
   }
  }
 },
 "nbformat": 4,
 "nbformat_minor": 5
}
