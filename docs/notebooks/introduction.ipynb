{
 "cells": [
  {
   "attachments": {},
   "cell_type": "markdown",
   "id": "492590ec",
   "metadata": {},
   "source": [
    "# Introduction\n",
    "\n",
    "VAMPyR is a python overlay to the MRCPP library. It is implemented using [pybind11](https://pybind11.readthedocs.io/en/stable/).\n",
    "\n",
    "In addition it offers so much more:\n",
    "    \n",
    "    - Reduced barrier of entry for new students\n",
    "    - Easier to prototype new ideas\n",
    "    - Easily combined with the superpowers of Python\n",
    "\n",
    "The structure of the code:\n",
    "\n",
    "```\n",
    "vampyr \n",
    "        vampyr1d\n",
    "        vampyr2d\n",
    "        vampyr3d\n",
    "```\n",
    "\n",
    "Each module can be imported as\n",
    "```Python\n",
    "    from vampyr import vampyr1d as vp1 \n",
    "    from vampyr import vampyr2d as vp2 \n",
    "    from vampyr import vampyr3d as vp3 \n",
    "```\n",
    "\n",
    "## Making the MRA\n",
    "\n",
    "Once we have imported vampyr is the next step to make a MultiResolutionAnalysis (MRA), the MRA can be thought of as the physical space our functions and operators exist and work.\n",
    "\n",
    "To make the MRA do we call upon the `MultiResolutionAnalysis` class in vampyr\n",
    "\n",
    "```Python\n",
    "    mra = vp1.MultiresolutionAnalysis(box=[-20, 20], order=7)\n",
    "```\n",
    "Here we made a 1-dimensional MRA, where we specified the size of our box and the number of scaling/wavelet functions in the basis. The procedure is the same for 2- and 3-dimensional cells.\n",
    "\n",
    "## Projecting a function\n",
    "\n",
    "You can project analytical functions onto the MRA. As an example let's project the Gaussian functions\n",
    "\n",
    "\\begin{align}\n",
    "    g(x) = \\exp(-\\sum_{i=0}^d x_i^2)\n",
    "\\end{align}\n",
    "\n",
    "onto the MRA in 1-,2- and 3-dimensions\n",
    "\n",
    "Note: Vampyr assumes the argument to be a vector, such as $x = (x_0, x_1, ..., x_{d-1})$\n",
    "\n",
    "This Gaussian can be written as a standard Pyhon function:\n",
    "\n",
    "```Python\n",
    "    # A 1D Gaussian\n",
    "    def f(x):\n",
    "        from numpy import exp\n",
    "        return exp(-x[0]**2)\n",
    "\n",
    "```\n",
    "```Python\n",
    "    # A 2D Gaussian\n",
    "    def f(x):\n",
    "        from numpy import exp\n",
    "        return exp(-(x[0]**2 + x[1]**2))\n",
    "\n",
    "```\n",
    "```Python\n",
    "    # A 3D Gaussian\n",
    "    def f(x):\n",
    "        from numpy import exp\n",
    "        return exp(-(x[0]**2 + x[1]**2 + x[2]**2))\n",
    "\n",
    "```\n",
    "\n",
    "We can make a `vp.ScalingProjector` object which we use to project functions onto the MRA with a set precision.\n",
    "\n",
    "```\n",
    "projector = vp1.ScalingProjector(mra, prec)\n",
    "```\n",
    "\n",
    "Now let's project a function onto a `FunctionTree` object.\n",
    "\n",
    "```Python\n",
    "    f_tree = projector(f)\n",
    "```\n",
    "\n"
   ]
  },
  {
   "cell_type": "markdown",
   "id": "94c8df55-6c14-44c9-bf05-97fe546ca399",
   "metadata": {},
   "source": [
    "# Making the MRA\n",
    "\n",
    "\n",
    "The Multiresolution analysis is the numerical space we work on, it has a size and an order"
   ]
  },
  {
   "cell_type": "code",
   "execution_count": 2,
   "id": "1967defc-f567-4676-8309-2607aabb1659",
   "metadata": {},
   "outputs": [
    {
     "name": "stdout",
     "output_type": "stream",
     "text": [
      "================================================================\n",
      "                    MultiResolution Analysis                    \n",
      "----------------------------------------------------------------\n",
      " polynomial order      : 7\n",
      " polynomial type       : Interpolating\n",
      "----------------------------------------------------------------\n",
      " total boxes           : 8\n",
      " boxes                 : [          2           2           2 ]\n",
      " unit lengths          : [  20.000000   20.000000   20.000000 ]\n",
      " scaling factor        : [   1.250000    1.250000    1.250000 ]\n",
      " lower bounds          : [ -20.000000  -20.000000  -20.000000 ]\n",
      " upper bounds          : [  20.000000   20.000000   20.000000 ]\n",
      " total length          : [  40.000000   40.000000   40.000000 ]\n",
      "================================================================\n",
      "\n"
     ]
    }
   ],
   "source": [
    "mra = vp.MultiResolutionAnalysis(box=[-20,20], order=7)\n",
    "print(mra)"
   ]
  },
  {
   "cell_type": "markdown",
   "id": "a0f267db-c351-4bac-ae1c-e70cd7074867",
   "metadata": {},
   "source": [
    "# Projecting a function onto the MRA\n",
    "\n",
    "\n",
    "Projection a function onto the MRA is done through a projection operator"
   ]
  },
  {
   "cell_type": "code",
   "execution_count": 3,
   "id": "a63fb7a6-48d2-4bd2-b5b0-3aaa3aa6221e",
   "metadata": {},
   "outputs": [
    {
     "name": "stdout",
     "output_type": "stream",
     "text": [
      "\n",
      "*FunctionTree: nn\n",
      "  genNodes: 0\n",
      "  square norm: 1.9687\n",
      "  root scale: -4\n",
      "  order: 7\n",
      "  nodes: 264\n",
      "  endNodes: 232\n",
      "  nodes per scale: \n",
      "    scale=-4  nodes=8\n",
      "    scale=-3  nodes=64\n",
      "    scale=-2  nodes=64\n",
      "    scale=-1  nodes=64\n",
      "    scale=0  nodes=64\n",
      "\n"
     ]
    }
   ],
   "source": [
    "prec = 1.0e-4\n",
    "projection_operator = vp.ScalingProjector(mra, prec)\n",
    "\n",
    "def gauss(x):\n",
    "    return exp(-x[0]**2 -x[1]**2 - x[2]**2)\n",
    "\n",
    "\n",
    "gauss_tree = projection_operator(gauss)\n",
    "print(gauss_tree)"
   ]
  },
  {
   "cell_type": "code",
   "execution_count": null,
   "id": "104a7da8",
   "metadata": {},
   "outputs": [],
   "source": []
  }
 ],
 "metadata": {
  "kernelspec": {
   "display_name": "Python 3",
   "language": "python",
   "name": "python3"
  },
  "language_info": {
   "codemirror_mode": {
    "name": "ipython",
    "version": 3
   },
   "file_extension": ".py",
   "mimetype": "text/x-python",
   "name": "python",
   "nbconvert_exporter": "python",
   "pygments_lexer": "ipython3",
   "version": "3.8.10 (default, Nov 14 2022, 12:59:47) \n[GCC 9.4.0]"
  },
  "vscode": {
   "interpreter": {
    "hash": "916dbcbb3f70747c44a77c7bcd40155683ae19c65e1c03b4aa3499c5328201f1"
   }
  }
 },
 "nbformat": 4,
 "nbformat_minor": 5
}
